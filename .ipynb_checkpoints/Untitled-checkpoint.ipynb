{
 "cells": [
  {
   "cell_type": "code",
   "execution_count": 1,
   "metadata": {},
   "outputs": [
    {
     "name": "stderr",
     "output_type": "stream",
     "text": [
      "/usr/lib/python3.7/importlib/_bootstrap.py:219: RuntimeWarning: numpy.ufunc size changed, may indicate binary incompatibility. Expected 192 from C header, got 216 from PyObject\n",
      "  return f(*args, **kwds)\n",
      "/usr/lib/python3.7/importlib/_bootstrap.py:219: RuntimeWarning: numpy.ufunc size changed, may indicate binary incompatibility. Expected 192 from C header, got 216 from PyObject\n",
      "  return f(*args, **kwds)\n"
     ]
    }
   ],
   "source": [
    "import pandas as pd\n",
    "import numpy as np\n",
    "from sklearn.linear_model import LinearRegression"
   ]
  },
  {
   "cell_type": "code",
   "execution_count": 3,
   "metadata": {},
   "outputs": [],
   "source": [
    "data   = pd.read_csv(\"hiring.csv\")"
   ]
  },
  {
   "cell_type": "code",
   "execution_count": 12,
   "metadata": {},
   "outputs": [
    {
     "data": {
      "text/html": [
       "<div>\n",
       "<style scoped>\n",
       "    .dataframe tbody tr th:only-of-type {\n",
       "        vertical-align: middle;\n",
       "    }\n",
       "\n",
       "    .dataframe tbody tr th {\n",
       "        vertical-align: top;\n",
       "    }\n",
       "\n",
       "    .dataframe thead th {\n",
       "        text-align: right;\n",
       "    }\n",
       "</style>\n",
       "<table border=\"1\" class=\"dataframe\">\n",
       "  <thead>\n",
       "    <tr style=\"text-align: right;\">\n",
       "      <th></th>\n",
       "      <th>experience</th>\n",
       "      <th>test_score(out of 10)</th>\n",
       "      <th>interview_score(out of 10)</th>\n",
       "      <th>salary($)</th>\n",
       "    </tr>\n",
       "  </thead>\n",
       "  <tbody>\n",
       "    <tr>\n",
       "      <th>0</th>\n",
       "      <td>NaN</td>\n",
       "      <td>8.0</td>\n",
       "      <td>9</td>\n",
       "      <td>50000</td>\n",
       "    </tr>\n",
       "    <tr>\n",
       "      <th>1</th>\n",
       "      <td>NaN</td>\n",
       "      <td>8.0</td>\n",
       "      <td>6</td>\n",
       "      <td>45000</td>\n",
       "    </tr>\n",
       "    <tr>\n",
       "      <th>2</th>\n",
       "      <td>five</td>\n",
       "      <td>6.0</td>\n",
       "      <td>7</td>\n",
       "      <td>60000</td>\n",
       "    </tr>\n",
       "    <tr>\n",
       "      <th>3</th>\n",
       "      <td>two</td>\n",
       "      <td>10.0</td>\n",
       "      <td>10</td>\n",
       "      <td>65000</td>\n",
       "    </tr>\n",
       "    <tr>\n",
       "      <th>4</th>\n",
       "      <td>seven</td>\n",
       "      <td>9.0</td>\n",
       "      <td>6</td>\n",
       "      <td>70000</td>\n",
       "    </tr>\n",
       "    <tr>\n",
       "      <th>5</th>\n",
       "      <td>three</td>\n",
       "      <td>7.0</td>\n",
       "      <td>10</td>\n",
       "      <td>62000</td>\n",
       "    </tr>\n",
       "    <tr>\n",
       "      <th>6</th>\n",
       "      <td>ten</td>\n",
       "      <td>NaN</td>\n",
       "      <td>7</td>\n",
       "      <td>72000</td>\n",
       "    </tr>\n",
       "    <tr>\n",
       "      <th>7</th>\n",
       "      <td>eleven</td>\n",
       "      <td>7.0</td>\n",
       "      <td>8</td>\n",
       "      <td>80000</td>\n",
       "    </tr>\n",
       "  </tbody>\n",
       "</table>\n",
       "</div>"
      ],
      "text/plain": [
       "  experience  test_score(out of 10)  interview_score(out of 10)  salary($)\n",
       "0        NaN                    8.0                           9      50000\n",
       "1        NaN                    8.0                           6      45000\n",
       "2       five                    6.0                           7      60000\n",
       "3        two                   10.0                          10      65000\n",
       "4      seven                    9.0                           6      70000\n",
       "5      three                    7.0                          10      62000\n",
       "6        ten                    NaN                           7      72000\n",
       "7     eleven                    7.0                           8      80000"
      ]
     },
     "execution_count": 12,
     "metadata": {},
     "output_type": "execute_result"
    }
   ],
   "source": [
    "data"
   ]
  },
  {
   "cell_type": "code",
   "execution_count": 5,
   "metadata": {},
   "outputs": [
    {
     "data": {
      "text/plain": [
       "experience                    2\n",
       "test_score(out of 10)         1\n",
       "interview_score(out of 10)    0\n",
       "salary($)                     0\n",
       "dtype: int64"
      ]
     },
     "execution_count": 5,
     "metadata": {},
     "output_type": "execute_result"
    }
   ],
   "source": [
    "data.isnull().sum()"
   ]
  },
  {
   "cell_type": "code",
   "execution_count": 13,
   "metadata": {},
   "outputs": [],
   "source": [
    "data.experience  = data.experience.fillna(data.experience.mode())"
   ]
  },
  {
   "cell_type": "code",
   "execution_count": 16,
   "metadata": {},
   "outputs": [],
   "source": [
    "data[\"test_score(out of 10)\"]  = data[\"test_score(out of 10)\"].fillna(data[\"test_score(out of 10)\"].mean().round())"
   ]
  },
  {
   "cell_type": "code",
   "execution_count": 19,
   "metadata": {},
   "outputs": [],
   "source": [
    "from sklearn.preprocessing import LabelEncoder"
   ]
  },
  {
   "cell_type": "code",
   "execution_count": 20,
   "metadata": {},
   "outputs": [],
   "source": [
    "lb  = LabelEncoder()"
   ]
  },
  {
   "cell_type": "code",
   "execution_count": 22,
   "metadata": {},
   "outputs": [],
   "source": [
    "data.experience = lb.fit_transform(data.experience)"
   ]
  },
  {
   "cell_type": "code",
   "execution_count": 25,
   "metadata": {},
   "outputs": [
    {
     "data": {
      "text/plain": [
       "experience                      int64\n",
       "test_score(out of 10)         float64\n",
       "interview_score(out of 10)      int64\n",
       "salary($)                       int64\n",
       "dtype: object"
      ]
     },
     "execution_count": 25,
     "metadata": {},
     "output_type": "execute_result"
    }
   ],
   "source": [
    "data.dtypes"
   ]
  },
  {
   "cell_type": "code",
   "execution_count": 27,
   "metadata": {},
   "outputs": [],
   "source": [
    "data.columns = ['experience', 'test_score', 'interview_score',\n",
    "       'salary($)']"
   ]
  },
  {
   "cell_type": "code",
   "execution_count": 29,
   "metadata": {},
   "outputs": [],
   "source": [
    "X = data.drop('salary($)', axis  = 1)\n",
    "y  = data[\"salary($)\"]"
   ]
  },
  {
   "cell_type": "code",
   "execution_count": 31,
   "metadata": {},
   "outputs": [
    {
     "data": {
      "text/plain": [
       "LinearRegression()"
      ]
     },
     "execution_count": 31,
     "metadata": {},
     "output_type": "execute_result"
    }
   ],
   "source": [
    "model = LinearRegression()\n",
    "model.fit(X,y)"
   ]
  },
  {
   "cell_type": "code",
   "execution_count": 32,
   "metadata": {},
   "outputs": [],
   "source": [
    "import pickle"
   ]
  },
  {
   "cell_type": "code",
   "execution_count": 33,
   "metadata": {},
   "outputs": [],
   "source": [
    "pickle.dump(model,open('model.pkl','wb'))"
   ]
  },
  {
   "cell_type": "code",
   "execution_count": 40,
   "metadata": {},
   "outputs": [
    {
     "data": {
      "text/plain": [
       "(45000, 63000.0)"
      ]
     },
     "execution_count": 40,
     "metadata": {},
     "output_type": "execute_result"
    }
   ],
   "source": [
    "data[\"salary($)\"].min(),data[\"salary($)\"].mean()"
   ]
  },
  {
   "cell_type": "code",
   "execution_count": 34,
   "metadata": {},
   "outputs": [
    {
     "name": "stdout",
     "output_type": "stream",
     "text": [
      "[62783.41823292]\n"
     ]
    }
   ],
   "source": [
    "\n",
    "\n",
    "# Loading model to compare the results\n",
    "model = pickle.load(open('model.pkl','rb'))\n",
    "print(model.predict([[2, 9, 6]]))"
   ]
  },
  {
   "cell_type": "code",
   "execution_count": 35,
   "metadata": {},
   "outputs": [
    {
     "name": "stdout",
     "output_type": "stream",
     "text": [
      "Collecting streamlit\n",
      "  Downloading streamlit-0.72.0-py2.py3-none-any.whl (7.4 MB)\n",
      "\u001b[K     |████████████████████████████████| 7.4 MB 376 kB/s eta 0:00:01     |█▊                              | 409 kB 401 kB/s eta 0:00:18     |██████▌                         | 1.5 MB 465 kB/s eta 0:00:13     |██████████▍                     | 2.4 MB 126 kB/s eta 0:00:40     |███████████▎                    | 2.6 MB 367 kB/s eta 0:00:14     |████████████                    | 2.8 MB 367 kB/s eta 0:00:13     |████████████▉                   | 3.0 MB 491 kB/s eta 0:00:09     |█████████████▏                  | 3.0 MB 491 kB/s eta 0:00:09     |██████████████                  | 3.2 MB 491 kB/s eta 0:00:09     |███████████████▎                | 3.5 MB 470 kB/s eta 0:00:09     |██████████████████▉             | 4.4 MB 345 kB/s eta 0:00:09     |███████████████████             | 4.4 MB 345 kB/s eta 0:00:09     |██████████████████████████████▎ | 7.0 MB 441 kB/s eta 0:00:01\n",
      "\u001b[?25hCollecting pydeck>=0.1.dev5\n",
      "  Downloading pydeck-0.5.0-py2.py3-none-any.whl (4.5 MB)\n",
      "\u001b[K     |████████████████████████████████| 4.5 MB 401 kB/s eta 0:00:01     |████████████████████▊           | 2.9 MB 142 kB/s eta 0:00:12     |█████████████████████           | 2.9 MB 142 kB/s eta 0:00:11     |█████████████████████▎          | 3.0 MB 142 kB/s eta 0:00:11     |█████████████████████▋          | 3.0 MB 142 kB/s eta 0:00:11     |██████████████████████▎         | 3.1 MB 142 kB/s eta 0:00:10     |███████████████████████         | 3.2 MB 309 kB/s eta 0:00:05     |█████████████████████████       | 3.5 MB 298 kB/s eta 0:00:04     |█████████████████████████▋      | 3.6 MB 298 kB/s eta 0:00:03\n",
      "\u001b[?25hCollecting altair>=3.2.0\n",
      "  Downloading altair-4.1.0-py3-none-any.whl (727 kB)\n",
      "\u001b[K     |████████████████████████████████| 727 kB 67 kB/s eta 0:00:012    |███▏                            | 71 kB 132 kB/s eta 0:00:05     |██████▎                         | 143 kB 142 kB/s eta 0:00:05     |███████████▊                    | 266 kB 142 kB/s eta 0:00:04\n",
      "\u001b[?25hCollecting pillow>=6.2.0\n",
      "  Downloading Pillow-8.0.1-cp37-cp37m-manylinux1_x86_64.whl (2.2 MB)\n",
      "\u001b[K     |████████████████████████████████| 2.2 MB 37 kB/s eta 0:00:011     |█████████▌                      | 655 kB 101 kB/s eta 0:00:16     |█████████████████████▋          | 1.5 MB 102 kB/s eta 0:00:08     |███████████████████████         | 1.6 MB 60 kB/s eta 0:00:11     |████████████████████████▊       | 1.7 MB 71 kB/s eta 0:00:07     |██████████████████████████      | 1.8 MB 99 kB/s eta 0:00:05     |███████████████████████████▍    | 1.9 MB 82 kB/s eta 0:00:04\n",
      "\u001b[?25hRequirement already satisfied: pandas>=0.21.0 in /home/galileo/jupyterproject/jupyter/lib/python3.7/site-packages (from streamlit) (1.0.3)\n",
      "Requirement already satisfied: python-dateutil in /home/galileo/jupyterproject/jupyter/lib/python3.7/site-packages (from streamlit) (2.8.1)\n",
      "Requirement already satisfied: click>=7.0 in /home/galileo/jupyterproject/jupyter/lib/python3.7/site-packages (from streamlit) (7.1.2)\n",
      "Collecting cachetools>=4.0\n",
      "  Downloading cachetools-4.2.0-py3-none-any.whl (12 kB)\n",
      "Collecting base58\n",
      "  Downloading base58-2.0.1-py3-none-any.whl (4.3 kB)\n",
      "Collecting watchdog\n",
      "  Downloading watchdog-1.0.1.tar.gz (97 kB)\n",
      "\u001b[K     |████████████████████████████████| 97 kB 87 kB/s  eta 0:00:01\n",
      "\u001b[?25hCollecting toml\n",
      "  Downloading toml-0.10.2-py2.py3-none-any.whl (16 kB)\n",
      "Collecting gitpython\n",
      "  Downloading GitPython-3.1.11-py3-none-any.whl (159 kB)\n",
      "\u001b[K     |████████████████████████████████| 159 kB 193 kB/s eta 0:00:01\n",
      "\u001b[?25hCollecting astor\n",
      "  Downloading astor-0.8.1-py2.py3-none-any.whl (27 kB)\n",
      "Collecting tzlocal\n",
      "  Downloading tzlocal-2.1-py2.py3-none-any.whl (16 kB)\n",
      "Requirement already satisfied: packaging in /home/galileo/jupyterproject/jupyter/lib/python3.7/site-packages (from streamlit) (20.4)\n",
      "Collecting validators\n",
      "  Downloading validators-0.18.1-py3-none-any.whl (19 kB)\n",
      "Requirement already satisfied: tornado>=5.0 in /home/galileo/jupyterproject/jupyter/lib/python3.7/site-packages (from streamlit) (6.0.4)\n",
      "Requirement already satisfied: requests in /home/galileo/jupyterproject/jupyter/lib/python3.7/site-packages (from streamlit) (2.24.0)\n",
      "Requirement already satisfied: numpy in /home/galileo/jupyterproject/jupyter/lib/python3.7/site-packages (from streamlit) (1.18.4)\n",
      "Collecting protobuf!=3.11,>=3.6.0\n",
      "  Downloading protobuf-3.14.0-cp37-cp37m-manylinux1_x86_64.whl (1.0 MB)\n",
      "\u001b[K     |████████████████████████████████| 1.0 MB 363 kB/s eta 0:00:01\n",
      "\u001b[?25hCollecting blinker\n",
      "  Downloading blinker-1.4.tar.gz (111 kB)\n",
      "\u001b[K     |████████████████████████████████| 111 kB 379 kB/s eta 0:00:01\n",
      "\u001b[?25hCollecting pyarrow\n",
      "  Downloading pyarrow-2.0.0-cp37-cp37m-manylinux2014_x86_64.whl (17.7 MB)\n",
      "\u001b[K     |████████████████████████████████| 17.7 MB 91 kB/s eta 0:00:011    |██████▌                         | 3.6 MB 244 kB/s eta 0:00:58     |██████████▊                     | 5.9 MB 231 kB/s eta 0:00:51     |███████████▏                    | 6.2 MB 199 kB/s eta 0:00:58     |███████████▌                    | 6.4 MB 203 kB/s eta 0:00:56     |███████████▉                    | 6.5 MB 252 kB/s eta 0:00:45     |███████████▉                    | 6.6 MB 252 kB/s eta 0:00:45     |█████████████████▍              | 9.6 MB 274 kB/s eta 0:00:30     |██████████████████              | 10.0 MB 209 kB/s eta 0:00:37     |██████████████████▉             | 10.4 MB 368 kB/s eta 0:00:20     |████████████████████            | 11.0 MB 262 kB/s eta 0:00:26     |████████████████████            | 11.1 MB 262 kB/s eta 0:00:26     |█████████████████████           | 11.7 MB 189 kB/s eta 0:00:32     |█████████████████████           | 11.7 MB 189 kB/s eta 0:00:32     |██████████████████████▌         | 12.4 MB 311 kB/s eta 0:00:17     |████████████████████████▍       | 13.5 MB 232 kB/s eta 0:00:19     |████████████████████████▊       | 13.7 MB 413 kB/s eta 0:00:10     |█████████████████████████▍      | 14.0 MB 246 kB/s eta 0:00:15     |██████████████████████████▊     | 14.8 MB 218 kB/s eta 0:00:14     |███████████████████████████▍    | 15.2 MB 366 kB/s eta 0:00:07     |█████████████████████████████   | 16.0 MB 360 kB/s eta 0:00:05     |█████████████████████████████▎  | 16.2 MB 116 kB/s eta 0:00:13     |████████████████████████████████| 17.7 MB 128 kB/s eta 0:00:01\n",
      "\u001b[?25hRequirement already satisfied: traitlets>=4.3.2 in /home/galileo/jupyterproject/jupyter/lib/python3.7/site-packages (from pydeck>=0.1.dev5->streamlit) (4.3.3)\n",
      "Requirement already satisfied: ipywidgets>=7.0.0 in /home/galileo/jupyterproject/jupyter/lib/python3.7/site-packages (from pydeck>=0.1.dev5->streamlit) (7.5.1)\n",
      "Requirement already satisfied: ipykernel>=5.1.2; python_version >= \"3.4\" in /home/galileo/jupyterproject/jupyter/lib/python3.7/site-packages (from pydeck>=0.1.dev5->streamlit) (5.3.0)\n",
      "Requirement already satisfied: jinja2>=2.10.1 in /home/galileo/jupyterproject/jupyter/lib/python3.7/site-packages (from pydeck>=0.1.dev5->streamlit) (2.11.2)\n",
      "Collecting toolz\n",
      "  Downloading toolz-0.11.1-py3-none-any.whl (55 kB)\n",
      "\u001b[K     |████████████████████████████████| 55 kB 109 kB/s eta 0:00:01\n",
      "\u001b[?25hRequirement already satisfied: entrypoints in /home/galileo/jupyterproject/jupyter/lib/python3.7/site-packages (from altair>=3.2.0->streamlit) (0.3)\n",
      "Requirement already satisfied: jsonschema in /home/galileo/jupyterproject/jupyter/lib/python3.7/site-packages (from altair>=3.2.0->streamlit) (3.2.0)\n",
      "Requirement already satisfied: pytz>=2017.2 in /home/galileo/jupyterproject/jupyter/lib/python3.7/site-packages (from pandas>=0.21.0->streamlit) (2020.1)\n",
      "Requirement already satisfied: six>=1.5 in /home/galileo/jupyterproject/jupyter/lib/python3.7/site-packages (from python-dateutil->streamlit) (1.14.0)\n",
      "Collecting gitdb<5,>=4.0.1\n",
      "  Downloading gitdb-4.0.5-py3-none-any.whl (63 kB)\n",
      "\u001b[K     |████████████████████████████████| 63 kB 104 kB/s eta 0:00:01\n",
      "\u001b[?25hRequirement already satisfied: pyparsing>=2.0.2 in /home/galileo/jupyterproject/jupyter/lib/python3.7/site-packages (from packaging->streamlit) (2.4.7)\n",
      "Requirement already satisfied: decorator>=3.4.0 in /home/galileo/jupyterproject/jupyter/lib/python3.7/site-packages (from validators->streamlit) (4.4.2)\n",
      "Requirement already satisfied: certifi>=2017.4.17 in /home/galileo/jupyterproject/jupyter/lib/python3.7/site-packages (from requests->streamlit) (2020.6.20)\n"
     ]
    },
    {
     "name": "stdout",
     "output_type": "stream",
     "text": [
      "Requirement already satisfied: chardet<4,>=3.0.2 in /home/galileo/jupyterproject/jupyter/lib/python3.7/site-packages (from requests->streamlit) (3.0.4)\n",
      "Requirement already satisfied: idna<3,>=2.5 in /home/galileo/jupyterproject/jupyter/lib/python3.7/site-packages (from requests->streamlit) (2.9)\n",
      "Requirement already satisfied: urllib3!=1.25.0,!=1.25.1,<1.26,>=1.21.1 in /home/galileo/jupyterproject/jupyter/lib/python3.7/site-packages (from requests->streamlit) (1.25.9)\n",
      "Requirement already satisfied: ipython-genutils in /home/galileo/jupyterproject/jupyter/lib/python3.7/site-packages (from traitlets>=4.3.2->pydeck>=0.1.dev5->streamlit) (0.2.0)\n",
      "Requirement already satisfied: widgetsnbextension~=3.5.0 in /home/galileo/jupyterproject/jupyter/lib/python3.7/site-packages (from ipywidgets>=7.0.0->pydeck>=0.1.dev5->streamlit) (3.5.1)\n",
      "Requirement already satisfied: nbformat>=4.2.0 in /home/galileo/jupyterproject/jupyter/lib/python3.7/site-packages (from ipywidgets>=7.0.0->pydeck>=0.1.dev5->streamlit) (5.0.6)\n",
      "Requirement already satisfied: ipython>=4.0.0; python_version >= \"3.3\" in /home/galileo/jupyterproject/jupyter/lib/python3.7/site-packages (from ipywidgets>=7.0.0->pydeck>=0.1.dev5->streamlit) (7.14.0)\n",
      "Requirement already satisfied: jupyter-client in /home/galileo/jupyterproject/jupyter/lib/python3.7/site-packages (from ipykernel>=5.1.2; python_version >= \"3.4\"->pydeck>=0.1.dev5->streamlit) (6.1.3)\n",
      "Requirement already satisfied: MarkupSafe>=0.23 in /home/galileo/jupyterproject/jupyter/lib/python3.7/site-packages (from jinja2>=2.10.1->pydeck>=0.1.dev5->streamlit) (1.1.1)\n",
      "Requirement already satisfied: attrs>=17.4.0 in /home/galileo/jupyterproject/jupyter/lib/python3.7/site-packages (from jsonschema->altair>=3.2.0->streamlit) (19.3.0)\n",
      "Requirement already satisfied: importlib-metadata; python_version < \"3.8\" in /home/galileo/jupyterproject/jupyter/lib/python3.7/site-packages (from jsonschema->altair>=3.2.0->streamlit) (1.6.0)\n",
      "Requirement already satisfied: pyrsistent>=0.14.0 in /home/galileo/jupyterproject/jupyter/lib/python3.7/site-packages (from jsonschema->altair>=3.2.0->streamlit) (0.16.0)\n",
      "Requirement already satisfied: setuptools in /home/galileo/jupyterproject/jupyter/lib/python3.7/site-packages (from jsonschema->altair>=3.2.0->streamlit) (46.4.0)\n",
      "Collecting smmap<4,>=3.0.1\n",
      "  Downloading smmap-3.0.4-py2.py3-none-any.whl (25 kB)\n",
      "Requirement already satisfied: notebook>=4.4.1 in /home/galileo/jupyterproject/jupyter/lib/python3.7/site-packages (from widgetsnbextension~=3.5.0->ipywidgets>=7.0.0->pydeck>=0.1.dev5->streamlit) (6.0.3)\n",
      "Requirement already satisfied: jupyter-core in /home/galileo/jupyterproject/jupyter/lib/python3.7/site-packages (from nbformat>=4.2.0->ipywidgets>=7.0.0->pydeck>=0.1.dev5->streamlit) (4.6.3)\n",
      "Requirement already satisfied: jedi>=0.10 in /home/galileo/jupyterproject/jupyter/lib/python3.7/site-packages (from ipython>=4.0.0; python_version >= \"3.3\"->ipywidgets>=7.0.0->pydeck>=0.1.dev5->streamlit) (0.17.0)\n",
      "Requirement already satisfied: pygments in /home/galileo/jupyterproject/jupyter/lib/python3.7/site-packages (from ipython>=4.0.0; python_version >= \"3.3\"->ipywidgets>=7.0.0->pydeck>=0.1.dev5->streamlit) (2.6.1)\n",
      "Requirement already satisfied: prompt-toolkit!=3.0.0,!=3.0.1,<3.1.0,>=2.0.0 in /home/galileo/jupyterproject/jupyter/lib/python3.7/site-packages (from ipython>=4.0.0; python_version >= \"3.3\"->ipywidgets>=7.0.0->pydeck>=0.1.dev5->streamlit) (3.0.5)\n",
      "Requirement already satisfied: pickleshare in /home/galileo/jupyterproject/jupyter/lib/python3.7/site-packages (from ipython>=4.0.0; python_version >= \"3.3\"->ipywidgets>=7.0.0->pydeck>=0.1.dev5->streamlit) (0.7.5)\n",
      "Requirement already satisfied: pexpect; sys_platform != \"win32\" in /home/galileo/jupyterproject/jupyter/lib/python3.7/site-packages (from ipython>=4.0.0; python_version >= \"3.3\"->ipywidgets>=7.0.0->pydeck>=0.1.dev5->streamlit) (4.8.0)\n",
      "Requirement already satisfied: backcall in /home/galileo/jupyterproject/jupyter/lib/python3.7/site-packages (from ipython>=4.0.0; python_version >= \"3.3\"->ipywidgets>=7.0.0->pydeck>=0.1.dev5->streamlit) (0.1.0)\n",
      "Requirement already satisfied: pyzmq>=13 in /home/galileo/jupyterproject/jupyter/lib/python3.7/site-packages (from jupyter-client->ipykernel>=5.1.2; python_version >= \"3.4\"->pydeck>=0.1.dev5->streamlit) (19.0.1)\n",
      "Requirement already satisfied: zipp>=0.5 in /home/galileo/jupyterproject/jupyter/lib/python3.7/site-packages (from importlib-metadata; python_version < \"3.8\"->jsonschema->altair>=3.2.0->streamlit) (3.1.0)\n",
      "Requirement already satisfied: nbconvert in /home/galileo/jupyterproject/jupyter/lib/python3.7/site-packages (from notebook>=4.4.1->widgetsnbextension~=3.5.0->ipywidgets>=7.0.0->pydeck>=0.1.dev5->streamlit) (5.6.1)\n",
      "Requirement already satisfied: Send2Trash in /home/galileo/jupyterproject/jupyter/lib/python3.7/site-packages (from notebook>=4.4.1->widgetsnbextension~=3.5.0->ipywidgets>=7.0.0->pydeck>=0.1.dev5->streamlit) (1.5.0)\n",
      "Requirement already satisfied: prometheus-client in /home/galileo/jupyterproject/jupyter/lib/python3.7/site-packages (from notebook>=4.4.1->widgetsnbextension~=3.5.0->ipywidgets>=7.0.0->pydeck>=0.1.dev5->streamlit) (0.7.1)\n",
      "Requirement already satisfied: terminado>=0.8.1 in /home/galileo/jupyterproject/jupyter/lib/python3.7/site-packages (from notebook>=4.4.1->widgetsnbextension~=3.5.0->ipywidgets>=7.0.0->pydeck>=0.1.dev5->streamlit) (0.8.3)\n",
      "Requirement already satisfied: parso>=0.7.0 in /home/galileo/jupyterproject/jupyter/lib/python3.7/site-packages (from jedi>=0.10->ipython>=4.0.0; python_version >= \"3.3\"->ipywidgets>=7.0.0->pydeck>=0.1.dev5->streamlit) (0.7.0)\n",
      "Requirement already satisfied: wcwidth in /home/galileo/jupyterproject/jupyter/lib/python3.7/site-packages (from prompt-toolkit!=3.0.0,!=3.0.1,<3.1.0,>=2.0.0->ipython>=4.0.0; python_version >= \"3.3\"->ipywidgets>=7.0.0->pydeck>=0.1.dev5->streamlit) (0.1.9)\n",
      "Requirement already satisfied: ptyprocess>=0.5 in /home/galileo/jupyterproject/jupyter/lib/python3.7/site-packages (from pexpect; sys_platform != \"win32\"->ipython>=4.0.0; python_version >= \"3.3\"->ipywidgets>=7.0.0->pydeck>=0.1.dev5->streamlit) (0.6.0)\n",
      "Requirement already satisfied: pandocfilters>=1.4.1 in /home/galileo/jupyterproject/jupyter/lib/python3.7/site-packages (from nbconvert->notebook>=4.4.1->widgetsnbextension~=3.5.0->ipywidgets>=7.0.0->pydeck>=0.1.dev5->streamlit) (1.4.2)\n",
      "Requirement already satisfied: defusedxml in /home/galileo/jupyterproject/jupyter/lib/python3.7/site-packages (from nbconvert->notebook>=4.4.1->widgetsnbextension~=3.5.0->ipywidgets>=7.0.0->pydeck>=0.1.dev5->streamlit) (0.6.0)\n",
      "Requirement already satisfied: mistune<2,>=0.8.1 in /home/galileo/jupyterproject/jupyter/lib/python3.7/site-packages (from nbconvert->notebook>=4.4.1->widgetsnbextension~=3.5.0->ipywidgets>=7.0.0->pydeck>=0.1.dev5->streamlit) (0.8.4)\n",
      "Requirement already satisfied: testpath in /home/galileo/jupyterproject/jupyter/lib/python3.7/site-packages (from nbconvert->notebook>=4.4.1->widgetsnbextension~=3.5.0->ipywidgets>=7.0.0->pydeck>=0.1.dev5->streamlit) (0.4.4)\n",
      "Requirement already satisfied: bleach in /home/galileo/jupyterproject/jupyter/lib/python3.7/site-packages (from nbconvert->notebook>=4.4.1->widgetsnbextension~=3.5.0->ipywidgets>=7.0.0->pydeck>=0.1.dev5->streamlit) (3.1.5)\n",
      "Requirement already satisfied: webencodings in /home/galileo/jupyterproject/jupyter/lib/python3.7/site-packages (from bleach->nbconvert->notebook>=4.4.1->widgetsnbextension~=3.5.0->ipywidgets>=7.0.0->pydeck>=0.1.dev5->streamlit) (0.5.1)\n",
      "Building wheels for collected packages: watchdog, blinker\n",
      "  Building wheel for watchdog (setup.py) ... \u001b[?25ldone\n",
      "\u001b[?25h  Created wheel for watchdog: filename=watchdog-1.0.1-py3-none-any.whl size=72205 sha256=62171f5abe8a2e891b14dceaff11eae24551df66318657d8456d4162ceb4aee5\n",
      "  Stored in directory: /home/galileo/.cache/pip/wheels/1d/3d/5d/3788fbd727d756019a83b013e46d40821b089ea9bc4584df71\n",
      "  Building wheel for blinker (setup.py) ... \u001b[?25ldone\n",
      "\u001b[?25h  Created wheel for blinker: filename=blinker-1.4-py3-none-any.whl size=13452 sha256=ed77b1a6f1cd9d2aa8846e393dd8601764ca6b92984a81545315f52fbbe77cd7\n",
      "  Stored in directory: /home/galileo/.cache/pip/wheels/22/f5/18/df711b66eb25b21325c132757d4314db9ac5e8dabeaf196eab\n",
      "Successfully built watchdog blinker\n"
     ]
    },
    {
     "name": "stdout",
     "output_type": "stream",
     "text": [
      "Installing collected packages: pydeck, toolz, altair, pillow, cachetools, base58, watchdog, toml, smmap, gitdb, gitpython, astor, tzlocal, validators, protobuf, blinker, pyarrow, streamlit\n",
      "Successfully installed altair-4.1.0 astor-0.8.1 base58-2.0.1 blinker-1.4 cachetools-4.2.0 gitdb-4.0.5 gitpython-3.1.11 pillow-8.0.1 protobuf-3.14.0 pyarrow-2.0.0 pydeck-0.5.0 smmap-3.0.4 streamlit-0.72.0 toml-0.10.2 toolz-0.11.1 tzlocal-2.1 validators-0.18.1 watchdog-1.0.1\n",
      "\u001b[33mWARNING: You are using pip version 20.1.1; however, version 20.3.1 is available.\n",
      "You should consider upgrading via the '/home/galileo/jupyterproject/jupyter/bin/python -m pip install --upgrade pip' command.\u001b[0m\n"
     ]
    }
   ],
   "source": [
    "!pip install streamlit"
   ]
  },
  {
   "cell_type": "code",
   "execution_count": null,
   "metadata": {},
   "outputs": [],
   "source": []
  }
 ],
 "metadata": {
  "kernelspec": {
   "display_name": "Python 3",
   "language": "python",
   "name": "python3"
  },
  "language_info": {
   "codemirror_mode": {
    "name": "ipython",
    "version": 3
   },
   "file_extension": ".py",
   "mimetype": "text/x-python",
   "name": "python",
   "nbconvert_exporter": "python",
   "pygments_lexer": "ipython3",
   "version": "3.7.5"
  }
 },
 "nbformat": 4,
 "nbformat_minor": 4
}
